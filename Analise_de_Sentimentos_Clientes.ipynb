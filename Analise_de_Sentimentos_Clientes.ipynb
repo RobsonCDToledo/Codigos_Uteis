{
 "cells": [
  {
   "cell_type": "markdown",
   "id": "26268218",
   "metadata": {},
   "source": [
    "# Tutorial: Analise de sentimentos de reviews com Gemini\n",
    "\n",
    "Este notebook mostra como transformar feedbacks textuais em insights utilizando o modelo Gemini. Vamos configurar o ambiente, carregar um conjunto de reviews e automatizar a classificacao de sentimento antes de aprofundar nas causas de insatisfacao.\n"
   ]
  },
  {
   "cell_type": "markdown",
   "id": "91810a13",
   "metadata": {},
   "source": [
    "## Visao geral\n",
    "\n",
    "Ao final voce sera capaz de:\n",
    "- instalar e validar as dependencias essenciais;\n",
    "- configurar com seguranca a chave de API do Gemini;\n",
    "- carregar e inspecionar um conjunto de reviews em CSV;\n",
    "- classificar sentimentos (Positiva, Negativa ou Neutra) de forma programatica;\n",
    "- extrair razoes resumidas para feedbacks negativos.\n"
   ]
  },
  {
   "cell_type": "markdown",
   "id": "56c64805",
   "metadata": {},
   "source": [
    "## Pre-requisitos\n",
    "\n",
    "- Python 3.10 ou superior.\n",
    "- Acesso ao Google AI Studio com permissao para o modelo `gemini-2.5-flash`.\n",
    "- Uma chave de API ativa armazenada em local seguro.\n",
    "- Arquivo `reviews.csv` com uma coluna `reviewText` contendo os textos a serem avaliados.\n"
   ]
  },
  {
   "cell_type": "markdown",
   "id": "73dde866",
   "metadata": {},
   "source": [
    "## 1. Preparar o ambiente\n",
    "\n",
    "Execute a celula abaixo para garantir que `google-genai` e `pandas` estejam instalados. Em plataformas gerenciadas (como Google Colab), confirme se voce tem permissao para instalar pacotes.\n"
   ]
  },
  {
   "cell_type": "code",
   "execution_count": null,
   "id": "44239017",
   "metadata": {},
   "outputs": [],
   "source": [
    "%pip install --quiet --upgrade google-genai pandas"
   ]
  },
  {
   "cell_type": "markdown",
   "id": "a2ebbebf",
   "metadata": {},
   "source": [
    "## 2. Configurar a chave de API\n",
    "\n",
    "Armazene sua chave em uma variavel de ambiente antes de rodar o notebook. Substitua `COLE_SUA_CHAVE_AQUI` apenas se estiver testando localmente; em producao, prefira variaveis de ambiente ou cofres de segredos.\n"
   ]
  },
  {
   "cell_type": "code",
   "execution_count": null,
   "id": "6b502281",
   "metadata": {},
   "outputs": [],
   "source": [
    "import os\n",
    "\n",
    "API_KEY = os.getenv('GOOGLE_API_KEY', 'COLE_SUA_CHAVE_AQUI')\n",
    "if API_KEY == 'COLE_SUA_CHAVE_AQUI':\n",
    "    raise ValueError(\"Defina a variavel de ambiente GOOGLE_API_KEY ou substitua 'COLE_SUA_CHAVE_AQUI' pelo valor real da sua chave.\")\n",
    "\n",
    "os.environ['GOOGLE_API_KEY'] = API_KEY\n",
    "print('Chave configurada com sucesso.')"
   ]
  },
  {
   "cell_type": "markdown",
   "id": "8f5ed567",
   "metadata": {},
   "source": [
    "## 3. Inicializar o cliente Gemini\n",
    "\n",
    "Com a chave carregada, criamos o cliente que enviara as requisicoes ao modelo. Mantemos o identificador do modelo em uma constante para facilitar futuras trocas.\n"
   ]
  },
  {
   "cell_type": "code",
   "execution_count": null,
   "id": "c2de4cd1",
   "metadata": {},
   "outputs": [],
   "source": [
    "from google import genai\n",
    "\n",
    "MODEL_ID = 'gemini-2.5-flash'\n",
    "client = genai.Client()\n",
    "print(f'Modelo pronto: {MODEL_ID}')"
   ]
  },
  {
   "cell_type": "markdown",
   "id": "2d4b1247",
   "metadata": {},
   "source": [
    "## 4. Carregar o conjunto de reviews\n",
    "\n",
    "Atualize `CSV_PATH` conforme a localizacao do arquivo. O notebook espera encontrar a coluna `reviewText`. Caso seu dataset utilize outro nome, ajuste o codigo e a descricao abaixo.\n"
   ]
  },
  {
   "cell_type": "code",
   "execution_count": null,
   "id": "55842977",
   "metadata": {},
   "outputs": [],
   "source": [
    "import pandas as pd\n",
    "\n",
    "CSV_PATH = 'reviews.csv'  # ajuste para o caminho correto\n",
    "\n",
    "try:\n",
    "    df_reviews = pd.read_csv(CSV_PATH)\n",
    "except FileNotFoundError as exc:\n",
    "    raise FileNotFoundError(f'Arquivo nao encontrado em {CSV_PATH}. Atualize o caminho antes de prosseguir.') from exc\n",
    "\n",
    "if 'reviewText' not in df_reviews.columns:\n",
    "    raise KeyError(\"O arquivo deve conter uma coluna chamada 'reviewText'. Colunas encontradas: \" f\"{list(df_reviews.columns)}\")\n",
    "\n",
    "print(f'Total de reviews carregadas: {len(df_reviews)}')\n",
    "df_reviews.head(3)"
   ]
  },
  {
   "cell_type": "markdown",
   "id": "88de3b6f",
   "metadata": {},
   "source": [
    "## 5. Explorar rapidamente os dados\n",
    "\n",
    "Verifique a existencia de valores vazios e visualize alguns exemplos para garantir que os textos foram carregados corretamente.\n"
   ]
  },
  {
   "cell_type": "code",
   "execution_count": null,
   "id": "d990c0ed",
   "metadata": {},
   "outputs": [],
   "source": [
    "total_vazios = df_reviews['reviewText'].isna().sum()\n",
    "print(f'Reviews sem texto: {total_vazios}')\n",
    "\n",
    "exemplos = df_reviews['reviewText'].dropna().head(5)\n",
    "for idx, texto in enumerate(exemplos, start=1):\n",
    "    trecho = texto.replace('\\n', ' ')[:120]\n",
    "    print(f'{idx:02d}. {trecho}')"
   ]
  },
  {
   "cell_type": "markdown",
   "id": "ae8bc3a3",
   "metadata": {},
   "source": [
    "## 6. Definir o prompt e a funcao de analise de sentimento\n",
    "\n",
    "Utilizaremos um prompt padronizado forcando a resposta em uma unica palavra (Positiva, Negativa ou Neutra). A funcao abaixo encapsula a chamada ao modelo e trata entradas vazias.\n"
   ]
  },
  {
   "cell_type": "code",
   "execution_count": null,
   "id": "596b72d0",
   "metadata": {},
   "outputs": [],
   "source": [
    "from textwrap import dedent\n",
    "\n",
    "SENTIMENT_PROMPT = dedent(\"\"\"\n",
    "Classifique o sentimento da resenha a seguir como UMA das opcoes: Positiva, Negativa ou Neutra.\n",
    "Responda apenas com a palavra correspondente.\n",
    "\n",
    "Resenha: {resenha}\n",
    "\"\"\").strip()\n",
    "\n",
    "def classificar_sentimento(texto: str) -> str:\n",
    "    \"\"\"Retorna Positiva, Negativa, Neutra ou Sem texto em caso de entrada vazia.\"\"\"\n",
    "    if not isinstance(texto, str) or not texto.strip():\n",
    "        return 'Sem texto'\n",
    "\n",
    "    prompt = SENTIMENT_PROMPT.format(resenha=texto.strip())\n",
    "\n",
    "    try:\n",
    "        resposta = client.models.generate_content(\n",
    "            model=MODEL_ID,\n",
    "            contents=prompt,\n",
    "        )\n",
    "    except Exception as exc:\n",
    "        print(f'Falha ao analisar o texto: {exc}')\n",
    "        return 'Erro'\n",
    "\n",
    "    sentimento = resposta.text.strip().splitlines()[0]\n",
    "    return sentimento"
   ]
  },
  {
   "cell_type": "markdown",
   "id": "1d830710",
   "metadata": {},
   "source": [
    "## 7. Classificar uma amostra de reviews\n",
    "\n",
    "Para controlar custo e latencia, comecamos com uma amostra pequena. Ajuste o limite conforme sua cota de uso.\n"
   ]
  },
  {
   "cell_type": "code",
   "execution_count": null,
   "id": "2a4d5b37",
   "metadata": {},
   "outputs": [],
   "source": [
    "AMOSTRA_LIMITE = 10  # altere conforme necessario\n",
    "\n",
    "df_sample = df_reviews.head(AMOSTRA_LIMITE).copy()\n",
    "resultados = []\n",
    "\n",
    "for idx, texto in enumerate(df_sample['reviewText'], start=1):\n",
    "    sentimento = classificar_sentimento(texto)\n",
    "    resultados.append(sentimento)\n",
    "    trecho = (texto or '').replace('\\n', ' ')[:80]\n",
    "    print(f'{idx:02d}. Sentimento: {sentimento} | Trecho: {trecho}')\n",
    "\n",
    "df_sample['sentimento_gemini'] = resultados\n",
    "\n",
    "colunas_saida = ['reviewText', 'sentimento_gemini']\n",
    "df_sample[colunas_saida]"
   ]
  },
  {
   "cell_type": "markdown",
   "id": "1c73933d",
   "metadata": {},
   "source": [
    "## 8. Investigar reviews negativas\n",
    "\n",
    "Filtramos as resenhas marcadas como Negativa para entender pontos de atencao. Caso nao haja resultados, retorne ao passo anterior e aumente a amostra.\n"
   ]
  },
  {
   "cell_type": "code",
   "execution_count": null,
   "id": "1ea6d10c",
   "metadata": {},
   "outputs": [],
   "source": [
    "negativas = df_sample[df_sample['sentimento_gemini'] == 'Negativa'].copy()\n",
    "\n",
    "if negativas.empty:\n",
    "    print('Nenhuma review negativa encontrada na amostra atual.')\n",
    "else:\n",
    "    print(f'Total de reviews negativas: {len(negativas)}')\n",
    "    negativas[['reviewText', 'sentimento_gemini']]"
   ]
  },
  {
   "cell_type": "markdown",
   "id": "b0d2d2d7",
   "metadata": {},
   "source": [
    "## 9. Identificar motivos para insatisfacao\n",
    "\n",
    "Criamos um segundo prompt para solicitar um resumo objetivo do motivo da avaliacao negativa. Limitamos a quatro chamadas para conter o uso inicial.\n"
   ]
  },
  {
   "cell_type": "code",
   "execution_count": null,
   "id": "56f11e9c",
   "metadata": {},
   "outputs": [],
   "source": [
    "MOTIVO_PROMPT = dedent(\"\"\"\n",
    "A resenha a seguir foi classificada como negativa. Em uma unica frase curta, explique o principal motivo da insatisfacao.\n",
    "Foque no problema central citado pelo cliente e evite repetir o texto original.\n",
    "\n",
    "Resenha: {resenha}\n",
    "\"\"\").strip()\n",
    "\n",
    "def explicar_motivo(texto: str) -> str:\n",
    "    if not isinstance(texto, str) or not texto.strip():\n",
    "        return 'Sem texto'\n",
    "\n",
    "    prompt = MOTIVO_PROMPT.format(resenha=texto.strip())\n",
    "\n",
    "    try:\n",
    "        resposta = client.models.generate_content(\n",
    "            model=MODEL_ID,\n",
    "            contents=prompt,\n",
    "        )\n",
    "    except Exception as exc:\n",
    "        print(f'Falha ao explicar o motivo: {exc}')\n",
    "        return 'Erro'\n",
    "\n",
    "    return resposta.text.strip()\n",
    "\n",
    "if negativas.empty:\n",
    "    print('Sem motivos a identificar porque nao ha reviews negativas.')\n",
    "else:\n",
    "    indices_alvo = negativas.head(4).index\n",
    "    for idx in indices_alvo:\n",
    "        texto = negativas.at[idx, 'reviewText']\n",
    "        motivo = explicar_motivo(texto)\n",
    "        negativas.at[idx, 'motivo_gemini'] = motivo\n",
    "        print(f'Review {idx}: {motivo}')\n",
    "\n",
    "    df_sample.loc[indices_alvo, 'motivo_gemini'] = negativas.loc[indices_alvo, 'motivo_gemini']\n",
    "    negativas[['reviewText', 'motivo_gemini']]"
   ]
  },
  {
   "cell_type": "markdown",
   "id": "151d4c19",
   "metadata": {},
   "source": [
    "## 10. Proximos passos\n",
    "\n",
    "- Ampliar a amostra ou processar todo o dataset com controles de taxa (backoff, retries, cache).\n",
    "- Persistir as classificacoes em um banco de dados ou planilha para acompanhamento historico.\n",
    "- Treinar modelos locais com os rotulos gerados para reduzir custo em larga escala.\n",
    "- Integrar a analise a dashboards (Looker, Power BI) ou notificacoes automaticas.\n",
    "\n",
    "A partir daqui voce pode adaptar o prompt, mudar o modelo ou conectar o fluxo a interfaces maiores.\n"
   ]
  }
 ],
 "metadata": {
  "colab": {
   "private_outputs": true,
   "provenance": []
  },
  "kernelspec": {
   "display_name": "Python 3",
   "name": "python3"
  },
  "language_info": {
   "name": "python"
  }
 },
 "nbformat": 4,
 "nbformat_minor": 0
}
