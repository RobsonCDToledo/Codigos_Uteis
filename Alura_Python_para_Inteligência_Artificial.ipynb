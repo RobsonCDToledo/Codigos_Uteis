{
  "nbformat": 4,
  "nbformat_minor": 0,
  "metadata": {
    "colab": {
      "private_outputs": true,
      "provenance": [],
      "authorship_tag": "ABX9TyM1z+IAJxVS4ozZn0M7j3yZ",
      "include_colab_link": true
    },
    "kernelspec": {
      "name": "python3",
      "display_name": "Python 3"
    },
    "language_info": {
      "name": "python"
    }
  },
  "cells": [
    {
      "cell_type": "markdown",
      "metadata": {
        "id": "view-in-github",
        "colab_type": "text"
      },
      "source": [
        "<a href=\"https://colab.research.google.com/github/RobsonCDToledo/Codigos_Uteis/blob/main/Alura_Python_para_Intelig%C3%AAncia_Artificial.ipynb\" target=\"_parent\"><img src=\"https://colab.research.google.com/assets/colab-badge.svg\" alt=\"Open In Colab\"/></a>"
      ]
    },
    {
      "cell_type": "markdown",
      "metadata": {
        "id": "f7359f5e"
      },
      "source": [
        "# Tutorial de Comandos Essenciais em Python\n",
        "\n",
        "Bem-vindo ao seu tutorial interativo sobre os comandos fundamentais em Python!\n",
        "\n",
        "Este notebook foi criado para guiá-lo pelos conceitos básicos da linguagem Python, desde a exibição de informações até estruturas de controle e manipulação de dados. Vamos começar!"
      ]
    },
    {
      "cell_type": "markdown",
      "metadata": {
        "id": "6d2f0dfa"
      },
      "source": [
        "## 1° Função Print e Tipos de Dados\n",
        "\n",
        "A função `print()` é usada para exibir informações na tela. Python possui vários tipos de dados built-in, como inteiros, floats, strings e booleanos."
      ]
    },
    {
      "cell_type": "code",
      "metadata": {
        "id": "2452085c"
      },
      "source": [
        "# Exemplo da função print()\n",
        "print(\"Olá, mundo!\")\n",
        "print(123)\n",
        "print(3.14)\n",
        "print(True)\n",
        "\n",
        "# Verificando o tipo de dado\n",
        "print(type(\"Olá, mundo!\"))\n",
        "print(type(123))\n",
        "print(type(3.14))\n",
        "print(type(True))"
      ],
      "execution_count": null,
      "outputs": []
    },
    {
      "cell_type": "markdown",
      "metadata": {
        "id": "eb167589"
      },
      "source": [
        "## 2° Variáveis, Operações Matemáticas e Concatenação de Strings\n",
        "\n",
        "Variáveis são usadas para armazenar dados. Podemos realizar operações matemáticas básicas e concatenar strings."
      ]
    },
    {
      "cell_type": "code",
      "metadata": {
        "id": "7728ea00"
      },
      "source": [
        "# Atribuindo valores a variáveis\n",
        "numero1 = 10\n",
        "numero2 = 5\n",
        "texto1 = \"Python é \"\n",
        "texto2 = \"incrível!\"\n",
        "\n",
        "# Operações matemáticas\n",
        "soma = numero1 + numero2\n",
        "subtracao = numero1 - numero2\n",
        "multiplicacao = numero1 * numero2\n",
        "divisao = numero1 / numero2\n",
        "\n",
        "print(\"Soma:\", soma)\n",
        "print(\"Subtração:\", subtracao)\n",
        "print(\"Multiplicação:\", multiplicacao)\n",
        "print(\"Divisão:\", divisao)\n",
        "\n",
        "# Concatenação de strings\n",
        "texto_completo = texto1 + texto2\n",
        "print(texto_completo)"
      ],
      "execution_count": null,
      "outputs": []
    },
    {
      "cell_type": "markdown",
      "metadata": {
        "id": "b4f95eb2"
      },
      "source": [
        "## 3° Operações Matemáticas e Variáveis em Python\n",
        "\n",
        "Reforçando as operações matemáticas com variáveis."
      ]
    },
    {
      "cell_type": "code",
      "metadata": {
        "id": "193ce412"
      },
      "source": [
        "x = 20\n",
        "y = 4\n",
        "\n",
        "print(\"Soma de x e y:\", x + y)\n",
        "print(\"Subtração de x e y:\", x - y)\n",
        "print(\"Multiplicação de x e y:\", x * y)\n",
        "print(\"Divisão de x e y:\", x / y)\n",
        "print(\"Resto da divisão de x por y:\", x % y)\n",
        "print(\"Potência de x elevado a y:\", x ** y)"
      ],
      "execution_count": null,
      "outputs": []
    },
    {
      "cell_type": "markdown",
      "metadata": {
        "id": "ebc4c41b"
      },
      "source": [
        "## 4° Nomenclatura e Tipos de Dados em Python: `int`, `float`, `str` e `bool`\n",
        "\n",
        "Vamos detalhar um pouco mais os tipos de dados e como nomear variáveis."
      ]
    },
    {
      "cell_type": "code",
      "metadata": {
        "id": "e5dc6ac4"
      },
      "source": [
        "# Inteiro (int): números inteiros\n",
        "idade = 30\n",
        "print(\"Tipo de idade:\", type(idade))\n",
        "\n",
        "# Float (float): números de ponto flutuante (decimais)\n",
        "altura = 1.75\n",
        "print(\"Tipo de altura:\", type(altura))\n",
        "\n",
        "# String (str): sequências de caracteres\n",
        "nome = \"Alice\"\n",
        "print(\"Tipo de nome:\", type(nome))\n",
        "\n",
        "# Booleano (bool): valores verdadeiro ou falso\n",
        "tem_carro = True\n",
        "print(\"Tipo de tem_carro:\", type(tem_carro))\n",
        "\n",
        "# Regras para nomenclatura de variáveis:\n",
        "# - Devem começar com uma letra ou underscore (_)\n",
        "# - Não podem começar com um número\n",
        "# - Podem conter letras, números e underscores\n",
        "# - São case-sensitive (idade é diferente de Idade)\n",
        "# - Palavras reservadas (como print, if, for) não podem ser usadas como nomes de variáveis"
      ],
      "execution_count": null,
      "outputs": []
    },
    {
      "cell_type": "markdown",
      "metadata": {
        "id": "64a72ebb"
      },
      "source": [
        "## 5° Manipulando Strings em Python: Métodos `lower`, `upper`, `strip` e `replace`\n",
        "\n",
        "Strings são imutáveis, mas podemos criar novas strings modificadas usando métodos."
      ]
    },
    {
      "cell_type": "code",
      "metadata": {
        "id": "84707d33"
      },
      "source": [
        "frase = \"   Olá, Python!   \"\n",
        "\n",
        "# converter para minúsculas\n",
        "print(\"Minúsculas:\", frase.lower())\n",
        "\n",
        "# converter para maiúsculas\n",
        "print(\"Maiúsculas:\", frase.upper())\n",
        "\n",
        "# remover espaços em branco no início e no fim\n",
        "print(\"Sem espaços:\", frase.strip())\n",
        "\n",
        "# substituir uma parte da string\n",
        "print(\"Substituindo:\", frase.replace(\"Python\", \"mundo\"))\n",
        "\n",
        "# Note que a string original 'frase' não é alterada\n",
        "print(\"String original:\", frase)"
      ],
      "execution_count": null,
      "outputs": []
    },
    {
      "cell_type": "markdown",
      "metadata": {
        "id": "dd898412"
      },
      "source": [
        "## 6° Recebendo Dados do Usuário com `input` e Formatando Textos com fStrings\n",
        "\n",
        "A função `input()` permite que o usuário insira dados. fStrings são uma forma conveniente de incorporar variáveis em strings."
      ]
    },
    {
      "cell_type": "code",
      "metadata": {
        "id": "6efa1697"
      },
      "source": [
        "# Recebendo input do usuário\n",
        "nome_usuario = input(\"Qual é o seu nome? \")\n",
        "idade_usuario = input(\"Qual é a sua idade? \") # input sempre retorna uma string\n",
        "\n",
        "# Convertendo a idade para inteiro (se necessário para operações matemáticas)\n",
        "# idade_usuario = int(idade_usuario)\n",
        "\n",
        "# Formatando texto com fString\n",
        "print(f\"Olá, {nome_usuario}! Você tem {idade_usuario} anos.\")"
      ],
      "execution_count": null,
      "outputs": []
    },
    {
      "cell_type": "markdown",
      "metadata": {
        "id": "9b49bb6b"
      },
      "source": [
        "## 7° Condicionais\n",
        "\n",
        "Condicionais (`if`, `elif`, `else`) permitem executar código diferente dependendo de uma condição ser verdadeira ou falsa."
      ]
    },
    {
      "cell_type": "code",
      "metadata": {
        "id": "6ed0021a"
      },
      "source": [
        "idade = 18\n",
        "\n",
        "if idade >= 18:\n",
        "  print(\"Você é maior de idade.\")\n",
        "else:\n",
        "  print(\"Você é menor de idade.\")\n",
        "\n",
        "temperatura = 25\n",
        "\n",
        "if temperatura > 30:\n",
        "  print(\"Está muito quente.\")\n",
        "elif temperatura > 20:\n",
        "  print(\"A temperatura está agradável.\")\n",
        "else:\n",
        "  print(\"Está um pouco frio.\")"
      ],
      "execution_count": null,
      "outputs": []
    },
    {
      "cell_type": "markdown",
      "metadata": {
        "id": "74b08e80"
      },
      "source": [
        "## 8° Importância da Identação em Python\n",
        "\n",
        "A identação é crucial em Python para definir blocos de código. É assim que Python sabe quais linhas de código pertencem a quais estruturas (como condicionais, loops, funções, etc.).\n",
        "\n",
        "Use 4 espaços por nível de identação."
      ]
    },
    {
      "cell_type": "code",
      "metadata": {
        "id": "d5dafe2c"
      },
      "source": [
        "# Exemplo de identação correta\n",
        "if True:\n",
        "  print(\"Este código está dentro do bloco if.\")\n",
        "  print(\"Este também.\")\n",
        "\n",
        "# Exemplo de identação incorreta (geraria um erro IndentationError)\n",
        "# if True:\n",
        "# print(\"Este código está fora do bloco if, mas identado incorretamente.\")\n",
        "\n",
        "def minha_funcao():\n",
        "  print(\"Este código está dentro da função.\")\n",
        "\n",
        "minha_funcao()"
      ],
      "execution_count": null,
      "outputs": []
    },
    {
      "cell_type": "markdown",
      "source": [
        "## 9° Loop e Laços (For e While)\n",
        "\n",
        "For e While são estruturas de repetição, vamos acompanhar abaixo quais as diferêncas entre os dois modos"
      ],
      "metadata": {
        "id": "byYCZsdVV9Z5"
      }
    },
    {
      "cell_type": "code",
      "source": [
        "n = 1\n",
        "\n",
        "while n <= 500:\n",
        "    print(n)\n",
        "    n = n +1\n",
        "\n",
        "\n"
      ],
      "metadata": {
        "id": "9mmMZcKgWLCB"
      },
      "execution_count": null,
      "outputs": []
    },
    {
      "cell_type": "code",
      "metadata": {
        "id": "14d3f360"
      },
      "source": [
        "# Exemplo de loop for para iterar sobre uma lista\n",
        "frutas = [\"maçã\", \"banana\", \"cereja\"]\n",
        "for fruta in frutas:\n",
        "  print(fruta)\n",
        "\n",
        "# Exemplo de loop for com range()\n",
        "print(\"\\nContando de 0 a 4:\")\n",
        "for i in range(5):\n",
        "  print(i)\n",
        "\n",
        "# Exemplo de loop for com range() e início/fim especificados\n",
        "print(\"\\nContando de 2 a 5:\")\n",
        "for j in range(2, 6):\n",
        "  print(j)\n",
        "\n",
        "# Exemplo de loop for com range() e passo\n",
        "print(\"\\nContando de 0 a 10 com passo 2:\")\n",
        "for k in range(0, 11, 2):\n",
        "  print(k)"
      ],
      "execution_count": null,
      "outputs": []
    },
    {
      "cell_type": "markdown",
      "source": [
        "# Excericio prático"
      ],
      "metadata": {
        "id": "coOzGM8bSHF0"
      }
    },
    {
      "cell_type": "markdown",
      "source": [
        "A Hermex Log, uma empresa de logística especializada em serviços de entrega, está buscando otimizar seus custos operacionais. Recentemente, a empresa decidiu alugar um novo depósito para armazenar pacotes antes da distribuição. O aluguel mensal do depósito é de R$ 5.000. Além disso, a empresa gasta R$ 2.000 mensais em combustível e R$ 1.500 em manutenção de veículos. A equipe de finanças deseja calcular o custo total mensal e, em seguida, dividir esse custo entre as 10 rotas de entrega que a empresa opera, para entender o custo médio por rota.\n",
        "\n",
        "Como a equipe de finanças pode calcular o custo total mensal e o custo por rota usando conceitos de variáveis e operações matemáticas?"
      ],
      "metadata": {
        "id": "REpGVAs-SJWc"
      }
    },
    {
      "cell_type": "code",
      "source": [
        "aluguel = 5000\n",
        "combustivel = 2000\n",
        "manutencao = 1500\n",
        "rotas = 10\n",
        "\n",
        "custo_total = aluguel+combustivel+manutencao\n",
        "custo_medio_rota = custo_total/rotas\n",
        "\n",
        "print(f\"O custo total é de: \",custo_total,\" e a média por rotas é: \",custo_medio_rota)"
      ],
      "metadata": {
        "id": "gAwn__cdROci"
      },
      "execution_count": null,
      "outputs": []
    },
    {
      "cell_type": "markdown",
      "source": [
        "#  Rodando primeira IA dentro do Google Colab."
      ],
      "metadata": {
        "id": "AhcepJwMSjky"
      }
    },
    {
      "cell_type": "markdown",
      "source": [
        "Modulo de imports\n"
      ],
      "metadata": {
        "id": "ExyU_GjiToqp"
      }
    },
    {
      "cell_type": "code",
      "source": [
        "import os\n",
        "from google import genai\n",
        "from google.colab import userdata\n",
        "os.environ['GOOGLE_API_KEY'] = userdata.get('API_Google_Gemini')"
      ],
      "metadata": {
        "id": "laPSLL9uTlGs"
      },
      "execution_count": null,
      "outputs": []
    },
    {
      "cell_type": "code",
      "source": [
        "client = genai.Client()\n",
        "resposta = client.models.generate_content(model= 'gemini-2.5-flash', contents= input('Sua pergunta:'))\n",
        "print(f\"Resposta: \", resposta.text)"
      ],
      "metadata": {
        "id": "zm9X0WG7Rz8Z"
      },
      "execution_count": null,
      "outputs": []
    },
    {
      "cell_type": "code",
      "source": [
        "chat_bot = client.chats.create(model= 'gemini-2.5-flash')"
      ],
      "metadata": {
        "id": "i7QTa3bsXOX3"
      },
      "execution_count": null,
      "outputs": []
    },
    {
      "cell_type": "code",
      "source": [
        "resposta = chat_bot.send_message(input('Sua pergunta:'))\n",
        "print(f\"Resposta: \", resposta.text)"
      ],
      "metadata": {
        "id": "pdfTvCxqXeqZ"
      },
      "execution_count": null,
      "outputs": []
    },
    {
      "cell_type": "code",
      "source": [
        "chat_bot.get_history()"
      ],
      "metadata": {
        "id": "nTUWtCi5YAus"
      },
      "execution_count": null,
      "outputs": []
    },
    {
      "cell_type": "markdown",
      "source": [
        "# Criando o Primeiro Chat Bot"
      ],
      "metadata": {
        "id": "Iax634yXYUJz"
      }
    },
    {
      "cell_type": "code",
      "source": [
        "prompt = input('Digite o seu prompt: ')\n",
        "\n",
        "while prompt != 'Fim':\n",
        "    resposta = chat_bot.send_message(prompt)\n",
        "    print(f\"Resposta: \\n\", resposta.text)\n",
        "    prompt = input('Próxima pergunta: \\n')\n",
        "\n"
      ],
      "metadata": {
        "id": "dPstWtwPYDBf"
      },
      "execution_count": null,
      "outputs": []
    },
    {
      "cell_type": "code",
      "source": [],
      "metadata": {
        "id": "r4VbHNnuZCHv"
      },
      "execution_count": null,
      "outputs": []
    },
    {
      "cell_type": "markdown",
      "source": [
        "# Analise de Sentimento de Reviews com o Gemini."
      ],
      "metadata": {
        "id": "Lq1H7bMda_fI"
      }
    },
    {
      "cell_type": "code",
      "source": [
        "import pandas as pd"
      ],
      "metadata": {
        "id": "_CyAa2JebECg"
      },
      "execution_count": null,
      "outputs": []
    },
    {
      "cell_type": "code",
      "source": [
        "df_reviews = pd.read_csv('/content/reviews.csv')\n",
        "df_reviews.head(3)"
      ],
      "metadata": {
        "id": "xwY3nJtwbR8m"
      },
      "execution_count": null,
      "outputs": []
    },
    {
      "cell_type": "code",
      "source": [
        "# Capturando dados apenas dos textos de reviews\n",
        "\n",
        "reviews_text = df_reviews['reviewText']\n",
        "reviews_text.head(3)\n"
      ],
      "metadata": {
        "id": "LMAqRvrrbYRG"
      },
      "execution_count": null,
      "outputs": []
    },
    {
      "cell_type": "code",
      "source": [
        "lista_de_analises_de_sentimentos = []\n",
        "\n",
        "# Processando apenas as primeiras 5 resenhas para evitar a cota da API\n",
        "for review_numero, resenha in enumerate(reviews_text[:10]):\n",
        "    resposta = client.models.generate_content(\n",
        "        model=\"gemini-2.5-flash\",\n",
        "        contents=f\"\"\"Você irá analisar a resenha que eu te mandarei abaixo, e retorna com uma análise de sentimento.\n",
        "        Você deve responder APENAS com uma das seguintes palavras: 'Positiva', 'Negativa' ou 'Neutra',\n",
        "        indicando o sentimento relativo aquela resenha específica.\n",
        "        Exemplos:\n",
        "        \"Eu adorei esse produto\" -> Positiva\n",
        "        \"Gostei, mas não é nada de especial\" -> Neutra\n",
        "        \"Odiei esse produto\" -> Negativa\n",
        "\n",
        "        Segue a resenha a ser analisada: {resenha}\n",
        "        \"\"\"\n",
        "    )\n",
        "    lista_de_analises_de_sentimentos.append(resposta.text)"
      ],
      "metadata": {
        "id": "4yVX6BT1bzOJ"
      },
      "execution_count": null,
      "outputs": []
    },
    {
      "cell_type": "code",
      "source": [
        "# This cell is no longer needed as the list is populated in the previous cell.\n",
        "# lista_de_analises_de_sentimentos = []\n",
        "# lista_de_analises_de_sentimentos.append(resposta.text)"
      ],
      "metadata": {
        "id": "clNrlAiPbZdm"
      },
      "execution_count": null,
      "outputs": []
    },
    {
      "cell_type": "code",
      "source": [
        "print(f\"Resenha {review_numero}: '{resenha}' -> Sentimento: {resposta.text}\")"
      ],
      "metadata": {
        "id": "EbqiXqLLcN4s"
      },
      "execution_count": null,
      "outputs": []
    },
    {
      "cell_type": "code",
      "source": [
        "# Crie um novo DataFrame apenas com as primeiras 5 resenhas\n",
        "df_reviews_sample = df_reviews.head(10).copy()\n",
        "\n",
        "# Adicione a coluna de análises de sentimento a este novo DataFrame\n",
        "df_reviews_sample[\"Análises de Sentimentos\"] = lista_de_analises_de_sentimentos\n",
        "\n",
        "# Exiba o novo DataFrame\n",
        "display(df_reviews_sample)"
      ],
      "metadata": {
        "id": "aE5hglGecS-8"
      },
      "execution_count": null,
      "outputs": []
    },
    {
      "cell_type": "code",
      "source": [
        "df_negativo = df_reviews_sample[df_reviews_sample['Análises de Sentimentos'] == 'Negativa']\n",
        "df_negativo\n",
        "\n"
      ],
      "metadata": {
        "id": "KYuC_y_SesaK"
      },
      "execution_count": null,
      "outputs": []
    },
    {
      "cell_type": "code",
      "source": [
        "lista_de_analises_de_motivos = []\n",
        "\n",
        "# Processando apenas as primeiras 4 resenhas negativas\n",
        "for review_numero, resenha in df_negativo.head(4).iterrows():\n",
        "    resposta = client.models.generate_content(\n",
        "        model=\"gemini-2.5-flash\",\n",
        "        contents=f\"\"\"Você irá analisar a resenha que eu te mandarei abaixo, e retorna com uma análise de motivo.\n",
        "        Você deve responder de uma forma clara e em pt_br qual o motivo aparente ou que levou a pessoa a ter um sentimento negativo,\n",
        "        indicando o sentimento relativo aquela resenha específica.\n",
        "\n",
        "        Segue a resenha a ser analisada: {resenha['reviewText']}\n",
        "        \"\"\"\n",
        "    )\n",
        "    lista_de_analises_de_motivos.append(resposta.text)"
      ],
      "metadata": {
        "id": "LWMGfXvtfJcK"
      },
      "execution_count": null,
      "outputs": []
    },
    {
      "cell_type": "code",
      "source": [
        "# Crie um novo DataFrame apenas com as primeiras 5 resenhas\n",
        "df_reviews_sample2 = df_negativo.head(4).copy()\n",
        "\n",
        "# Adicione a coluna de análises de sentimento a este novo DataFrame\n",
        "# Redefina o índice para garantir que o comprimento corresponda\n",
        "df_negativo = df_negativo.reset_index(drop=True)\n",
        "df_negativo[\"Análises de Motivo\"] = lista_de_analises_de_motivos\n",
        "\n",
        "# Exiba o novo DataFrame\n",
        "display(df_negativo)"
      ],
      "metadata": {
        "id": "o5yz4ENKfioZ"
      },
      "execution_count": null,
      "outputs": []
    },
    {
      "cell_type": "code",
      "source": [
        "print(df_negativo[\"Análises de Motivo\"])"
      ],
      "metadata": {
        "id": "5ElihBnDhGxJ"
      },
      "execution_count": null,
      "outputs": []
    }
  ]
}